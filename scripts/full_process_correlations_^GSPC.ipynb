{
 "cells": [
  {
   "cell_type": "code",
   "execution_count": 1,
   "metadata": {},
   "outputs": [],
   "source": [
    "import os\n",
    "import numpy as np\n",
    "import pandas as pd"
   ]
  },
  {
   "cell_type": "code",
   "execution_count": 2,
   "metadata": {},
   "outputs": [],
   "source": [
    "date_list = [x[0] for x in os.walk('../data/')]\n",
    "#print(date_list)\n",
    "for each_dir in date_list:\n",
    "        each_file = os.listdir(each_dir)\n",
    "#print(each_file)"
   ]
  },
  {
   "cell_type": "code",
   "execution_count": 3,
   "metadata": {},
   "outputs": [],
   "source": [
    "# symbol=['^GSPC','^VIX','SPY', 'XLY','XLF','XLK','XLI','XLB','XLV','XLP','XLE','XRT','XLU']\n",
    "\n",
    "# with open('../../sp500tickers.txt','r') as f:\n",
    "#     symbol=[line.rstrip('\\n') for line in f]\n",
    "\n",
    "symbol=['POOL']\n",
    "\n",
    "\n",
    "for j in symbol[:]:\n",
    "#     if not os.path.exists('../Processed/'+j+'.csv'):\n",
    "#         print('processing ', j)\n",
    "#         if j not in ['BKR','CDW']:\n",
    "            for i in each_file[0:len(each_file)]:\n",
    "                date=i.split('.')[0]\n",
    "                df=pd.read_csv('../data/{}'.format(i), index_col=0)\n",
    "                df.drop(j, axis=1, inplace=True)\n",
    "                df=df.loc[[j],:]\n",
    "                df.rename(index={j:date},inplace=True)\n",
    "                if i==each_file[0]:\n",
    "                    df=df.add_prefix('corr'+j+'_')\n",
    "                    df.to_csv('../processed/'+j+'.csv')\n",
    "                    \n",
    "                else:\n",
    "                    with open('../Processed/'+j+'.csv', 'a') as f:\n",
    "                        df.to_csv(f, header=False)    "
   ]
  },
  {
   "cell_type": "code",
   "execution_count": null,
   "metadata": {},
   "outputs": [],
   "source": []
  }
 ],
 "metadata": {
  "kernelspec": {
   "display_name": "Python [conda env:root] *",
   "language": "python",
   "name": "conda-root-py"
  },
  "language_info": {
   "codemirror_mode": {
    "name": "ipython",
    "version": 3
   },
   "file_extension": ".py",
   "mimetype": "text/x-python",
   "name": "python",
   "nbconvert_exporter": "python",
   "pygments_lexer": "ipython3",
   "version": "3.7.4"
  }
 },
 "nbformat": 4,
 "nbformat_minor": 2
}
